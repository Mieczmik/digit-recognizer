{
 "cells": [
  {
   "cell_type": "markdown",
   "metadata": {},
   "source": [
    "# Introduction and import libraries"
   ]
  },
  {
   "cell_type": "code",
   "execution_count": 13,
   "metadata": {},
   "outputs": [
    {
     "name": "stdout",
     "output_type": "stream",
     "text": [
      "2.9.2\n",
      "2.9.0\n"
     ]
    }
   ],
   "source": [
    "import tensorflow as tf\n",
    "from tensorflow import keras as keras\n",
    "print(tf.__version__)\n",
    "\n",
    "print(keras.__version__)"
   ]
  },
  {
   "cell_type": "code",
   "execution_count": 14,
   "metadata": {},
   "outputs": [],
   "source": [
    "import numpy as np\n",
    "import pandas as pd\n",
    "import matplotlib.pyplot as plt\n",
    "import os\n",
    "import seaborn as sns\n",
    "import itertools\n",
    "%matplotlib inline\n",
    "\n",
    "sns.set(style='white', context='notebook', palette='deep')"
   ]
  },
  {
   "cell_type": "code",
   "execution_count": 15,
   "metadata": {},
   "outputs": [],
   "source": [
    "from tensorflow.python.keras.utils import np_utils\n",
    "\n",
    "import numpy as np"
   ]
  },
  {
   "cell_type": "markdown",
   "metadata": {},
   "source": [
    "# Data preparation\n",
    "## Load data"
   ]
  },
  {
   "cell_type": "code",
   "execution_count": 18,
   "metadata": {},
   "outputs": [],
   "source": [
    "data_path = os.path.join(\"datasets\")\n",
    "def load_data(filename, data_path=data_path):\n",
    "    csv_path = os.path.join(data_path, filename)\n",
    "    df = pd.read_csv(csv_path, sep = \",\")\n",
    "    return df"
   ]
  },
  {
   "cell_type": "code",
   "execution_count": 19,
   "metadata": {},
   "outputs": [],
   "source": [
    "train_data = load_data(\"train.csv\")\n",
    "test_data = load_data(\"test.csv\")"
   ]
  },
  {
   "cell_type": "code",
   "execution_count": 20,
   "metadata": {},
   "outputs": [],
   "source": [
    "y = train_data[\"label\"]#.to_numpy()\n",
    "X = train_data.drop([\"label\"], axis=1)#.to_numpy()"
   ]
  },
  {
   "cell_type": "code",
   "execution_count": 21,
   "metadata": {},
   "outputs": [
    {
     "data": {
      "text/plain": [
       "[]"
      ]
     },
     "execution_count": 21,
     "metadata": {},
     "output_type": "execute_result"
    },
    {
     "data": {
      "image/png": "[encoded data removed]",
      "text/plain": [
       "<Figure size 432x288 with 1 Axes>"
      ]
     },
     "metadata": {},
     "output_type": "display_data"
    }
   ],
   "source": [
    "%%capture --no-display\n",
    "g = sns.countplot(y)\n",
    "g.bar_label(g.containers[0])\n",
    "g.plot()"
   ]
  },
  {
   "cell_type": "markdown",
   "metadata": {},
   "source": [
    "Conlusion: Dataset is balanced"
   ]
  },
  {
   "cell_type": "markdown",
   "metadata": {},
   "source": [
    "## Missing values"
   ]
  },
  {
   "cell_type": "code",
   "execution_count": 22,
   "metadata": {},
   "outputs": [
    {
     "data": {
      "text/plain": [
       "count       784\n",
       "unique        1\n",
       "top       False\n",
       "freq        784\n",
       "dtype: object"
      ]
     },
     "execution_count": 22,
     "metadata": {},
     "output_type": "execute_result"
    }
   ],
   "source": [
    "# Check the data\n",
    "X.isnull().any().describe()"
   ]
  },
  {
   "cell_type": "code",
   "execution_count": 23,
   "metadata": {},
   "outputs": [
    {
     "data": {
      "text/plain": [
       "count       784\n",
       "unique        1\n",
       "top       False\n",
       "freq        784\n",
       "dtype: object"
      ]
     },
     "execution_count": 23,
     "metadata": {},
     "output_type": "execute_result"
    }
   ],
   "source": [
    "test_data.isnull().any().describe()"
   ]
  },
  {
   "cell_type": "markdown",
   "metadata": {},
   "source": [
    "Conlusion: There is no missing values in the train and test dataset."
   ]
  },
  {
   "cell_type": "markdown",
   "metadata": {},
   "source": [
    "## Normalization"
   ]
  },
  {
   "cell_type": "markdown",
   "metadata": {},
   "source": [
    "CNN converg faster on [0..1] data than on [0..255]."
   ]
  },
  {
   "cell_type": "code",
   "execution_count": 24,
   "metadata": {},
   "outputs": [],
   "source": [
    "X = X / 255.0\n",
    "test_data = test_data / 255.0"
   ]
  },
  {
   "cell_type": "markdown",
   "metadata": {},
   "source": [
    "## Reshape and label encoding"
   ]
  },
  {
   "cell_type": "code",
   "execution_count": 25,
   "metadata": {},
   "outputs": [
    {
     "name": "stdout",
     "output_type": "stream",
     "text": [
      "(42000, 28, 28, 1)\n",
      "(42000, 28, 28, 1)\n",
      "(array([0., 1.], dtype=float32), array([378000,  42000]))\n",
      "(28, 28, 1)\n"
     ]
    }
   ],
   "source": [
    "X = X.values.reshape(-1, 28, 28, 1)\n",
    "test_data = test_data.values.reshape(-1, 28, 28, 1)\n",
    "y = np_utils.to_categorical(y)\n",
    "\n",
    "print(X.shape)\n",
    "print(X.shape)\n",
    "print(np.unique(y,return_counts=True))\n",
    "print(X[0].shape)\n",
    "\n",
    "nb_classes = len(np.unique(y))\n",
    "n_samples = X.shape[0]"
   ]
  },
  {
   "cell_type": "code",
   "execution_count": 26,
   "metadata": {},
   "outputs": [
    {
     "name": "stderr",
     "output_type": "stream",
     "text": [
      "/Library/Frameworks/Python.framework/Versions/3.10/lib/python3.10/site-packages/matplotlib/text.py:1223: FutureWarning: elementwise comparison failed; returning scalar instead, but in the future will perform elementwise comparison\n",
      "  if s != self._text:\n"
     ]
    },
    {
     "data": {
      "image/png": "[encoded data removed]",
      "text/plain": [
       "<Figure size 1080x576 with 10 Axes>"
      ]
     },
     "metadata": {},
     "output_type": "display_data"
    }
   ],
   "source": [
    "fig, axes = plt.subplots(2, 5, figsize=(15, 8), subplot_kw={'xticks': (), 'yticks': ()})\n",
    "for target, image, ax in zip(y, X, axes.ravel()):\n",
    "    ax.imshow(image.reshape(28, 28), cmap=plt.cm.gist_gray)\n",
    "    ax.set_title(target)\n",
    "plt.show() "
   ]
  },
  {
   "cell_type": "markdown",
   "metadata": {},
   "source": [
    "## Split training and validation dataset"
   ]
  },
  {
   "cell_type": "code",
   "execution_count": 27,
   "metadata": {},
   "outputs": [],
   "source": [
    "from sklearn.model_selection import train_test_split\n",
    "X_train, X_val, y_train, y_val = train_test_split(X, y, test_size=0.1, random_state=42)"
   ]
  },
  {
   "cell_type": "markdown",
   "metadata": {},
   "source": [
    "# CNN"
   ]
  },
  {
   "cell_type": "code",
   "execution_count": 28,
   "metadata": {},
   "outputs": [],
   "source": [
    "from tensorflow.keras.models import Sequential\n",
    "from tensorflow.keras.layers import Dense\n",
    "from tensorflow.keras.callbacks import LearningRateScheduler\n",
    "from tensorflow.keras.callbacks import ModelCheckpoint\n",
    "from tensorflow.keras.callbacks import EarlyStopping, ReduceLROnPlateau\n",
    "from tensorflow.keras.layers import Dropout\n",
    "from tensorflow.keras.layers import BatchNormalization\n",
    "from tensorflow.keras.layers import Activation\n",
    "from tensorflow.keras.layers import Flatten\n",
    "from tensorflow.python.keras.layers.convolutional import Conv2D, MaxPooling2D, AveragePooling2D\n",
    "from tensorflow.keras.callbacks import History\n",
    "from keras.preprocessing.image import ImageDataGenerator"
   ]
  },
  {
   "cell_type": "code",
   "execution_count": 29,
   "metadata": {},
   "outputs": [],
   "source": [
    "# Set the CNN model \n",
    "# my CNN architechture is In -> [[Conv2D->relu]*2 -> MaxPool2D -> Dropout]*2 -> Flatten -> Dense -> Dropout -> Out\n",
    "\n",
    "history_1 = History()\n",
    "\n",
    "model = Sequential()\n",
    "\n",
    "model.add(Conv2D(filters = 32, kernel_size = (5,5),padding = 'Same', \n",
    "                 activation ='relu', input_shape = (28,28,1)))\n",
    "model.add(Conv2D(filters = 32, kernel_size = (5,5),padding = 'Same', \n",
    "                 activation ='relu'))\n",
    "model.add(MaxPooling2D(pool_size=(2,2)))\n",
    "model.add(Dropout(0.25))\n",
    "\n",
    "\n",
    "model.add(Conv2D(filters = 64, kernel_size = (3,3),padding = 'Same', \n",
    "                 activation ='relu'))\n",
    "model.add(Conv2D(filters = 64, kernel_size = (3,3),padding = 'Same', \n",
    "                 activation ='relu'))\n",
    "model.add(MaxPooling2D(pool_size=(2,2)))\n",
    "model.add(Dropout(0.25))\n",
    "\n",
    "\n",
    "model.add(Flatten())\n",
    "model.add(Dense(256, activation = \"relu\"))\n",
    "model.add(Dropout(0.5))\n",
    "model.add(Dense(10, activation = \"softmax\"))"
   ]
  },
  {
   "cell_type": "markdown",
   "metadata": {},
   "source": [
    "## Set the optimizer and annealer"
   ]
  },
  {
   "cell_type": "markdown",
   "metadata": {},
   "source": [
    "Once our layers are added to the model, we need to set up a score function, a loss function and an optimisation algorithm:\n",
    "* loss function - funkcja ta definiuje sposób pomiaru wydajności sieci podczas przetwarzania treningowego zbioru danych, a więc pozwala na dostrajanie parametrów sieci we właściwym kierunku,\n",
    "* optimizer - mechanizm dostrajania sieci na podstawie danych zwracanych przez funkcję straty,\n",
    "* metrics - metryki monitorowane podczas trenowania i testowania.\n",
    "\n",
    "We define the loss function to measure how poorly our model performs on images with known labels. It is the error rate between the oberved labels and the predicted ones. We use a specific form for categorical classifications (>2 classes) called the \"categorical_crossentropy\".\n",
    "\n",
    "The most important function is the optimizer. This function will iteratively improve parameters (filters kernel values, weights and bias of neurons ...) in order to minimise the loss.\n",
    "\n",
    "I choosed adam (with default values), it is a very effective optimizer.\n",
    "\n",
    "The metric function \"accuracy\" is used is to evaluate the performance our model. This metric function is similar to the loss function, except that the results from the metric evaluation are not used when training the model (only for evaluation)."
   ]
  },
  {
   "cell_type": "code",
   "execution_count": 30,
   "metadata": {},
   "outputs": [],
   "source": [
    "# Compile the model\n",
    "model.compile(optimizer = \"adam\" , loss = \"categorical_crossentropy\", metrics=[\"accuracy\"])"
   ]
  },
  {
   "cell_type": "code",
   "execution_count": 31,
   "metadata": {},
   "outputs": [],
   "source": [
    "# Set a learning rate annealer\n",
    "learning_rate_reduction = ReduceLROnPlateau(monitor='val_loss', \n",
    "                                            patience=3, \n",
    "                                            verbose=1, \n",
    "                                            factor=0.5, \n",
    "                                            min_lr=0.00001)"
   ]
  },
  {
   "cell_type": "markdown",
   "metadata": {},
   "source": [
    "## Data augmentation"
   ]
  },
  {
   "cell_type": "code",
   "execution_count": 32,
   "metadata": {},
   "outputs": [],
   "source": [
    "datagen = ImageDataGenerator(\n",
    "        featurewise_center=False,  # set input mean to 0 over the dataset\n",
    "        samplewise_center=False,  # set each sample mean to 0\n",
    "        featurewise_std_normalization=False,  # divide inputs by std of the dataset\n",
    "        samplewise_std_normalization=False,  # divide each input by its std\n",
    "        zca_whitening=False,  # apply ZCA whitening\n",
    "        rotation_range=10,  # randomly rotate images in the range (degrees, 0 to 180)\n",
    "        zoom_range = 0.1, # Randomly zoom image \n",
    "        width_shift_range=0.1,  # randomly shift images horizontally (fraction of total width)\n",
    "        height_shift_range=0.1,  # randomly shift images vertically (fraction of total height)\n",
    "        horizontal_flip=False,  # randomly flip images\n",
    "        vertical_flip=False)  # randomly flip images\n",
    "\n",
    "\n",
    "datagen.fit(X_train)"
   ]
  },
  {
   "cell_type": "code",
   "execution_count": 234,
   "metadata": {},
   "outputs": [
    {
     "name": "stdout",
     "output_type": "stream",
     "text": [
      "Epoch 1/100\n"
     ]
    },
    {
     "name": "stderr",
     "output_type": "stream",
     "text": [
      "/var/folders/dd/nn1g8pns4f18myq4q6z84swh0000gn/T/ipykernel_7929/3848252129.py:3: UserWarning: `Model.fit_generator` is deprecated and will be removed in a future version. Please use `Model.fit`, which supports generators.\n",
      "  history = model.fit_generator(datagen.flow(X_train, y_train, batch_size=32),\n",
      "/Library/Frameworks/Python.framework/Versions/3.10/lib/python3.10/site-packages/keras/preprocessing/image.py:2324: DeprecationWarning: Please use `affine_transform` from the `scipy.ndimage` namespace, the `scipy.ndimage.interpolation` namespace is deprecated.\n",
      "  channel_images = [ndimage.interpolation.affine_transform(  # pylint: disable=g-complex-comprehension\n"
     ]
    },
    {
     "name": "stdout",
     "output_type": "stream",
     "text": [
      "1182/1182 [==============================] - 49s 41ms/step - loss: 0.3410 - accuracy: 0.8908 - val_loss: 0.0551 - val_accuracy: 0.9843 - lr: 0.0010\n",
      "Epoch 2/100\n",
      "1182/1182 [==============================] - 51s 43ms/step - loss: 0.1287 - accuracy: 0.9621 - val_loss: 0.0413 - val_accuracy: 0.9890 - lr: 0.0010\n",
      "Epoch 3/100\n",
      "1182/1182 [==============================] - 49s 41ms/step - loss: 0.0978 - accuracy: 0.9711 - val_loss: 0.0298 - val_accuracy: 0.9917 - lr: 0.0010\n",
      "Epoch 4/100\n",
      "1182/1182 [==============================] - 55s 47ms/step - loss: 0.0810 - accuracy: 0.9762 - val_loss: 0.0334 - val_accuracy: 0.9888 - lr: 0.0010\n",
      "Epoch 5/100\n",
      "1182/1182 [==============================] - 54s 46ms/step - loss: 0.0737 - accuracy: 0.9782 - val_loss: 0.0345 - val_accuracy: 0.9919 - lr: 0.0010\n",
      "Epoch 6/100\n",
      "1182/1182 [==============================] - 50s 43ms/step - loss: 0.0668 - accuracy: 0.9799 - val_loss: 0.0246 - val_accuracy: 0.9931 - lr: 0.0010\n",
      "Epoch 7/100\n",
      "1182/1182 [==============================] - 51s 43ms/step - loss: 0.0626 - accuracy: 0.9816 - val_loss: 0.0273 - val_accuracy: 0.9924 - lr: 0.0010\n",
      "Epoch 8/100\n",
      "1182/1182 [==============================] - 52s 44ms/step - loss: 0.0595 - accuracy: 0.9819 - val_loss: 0.0263 - val_accuracy: 0.9924 - lr: 0.0010\n",
      "Epoch 9/100\n",
      "1181/1182 [============================>.] - ETA: 0s - loss: 0.0555 - accuracy: 0.9832\n",
      "Epoch 9: ReduceLROnPlateau reducing learning rate to 0.0005000000237487257.\n",
      "1182/1182 [==============================] - 52s 44ms/step - loss: 0.0554 - accuracy: 0.9832 - val_loss: 0.0299 - val_accuracy: 0.9914 - lr: 0.0010\n",
      "Epoch 10/100\n",
      "1182/1182 [==============================] - 51s 43ms/step - loss: 0.0406 - accuracy: 0.9880 - val_loss: 0.0244 - val_accuracy: 0.9929 - lr: 5.0000e-04\n",
      "Epoch 11/100\n",
      "1182/1182 [==============================] - 52s 44ms/step - loss: 0.0374 - accuracy: 0.9894 - val_loss: 0.0237 - val_accuracy: 0.9945 - lr: 5.0000e-04\n",
      "Epoch 12/100\n",
      "1182/1182 [==============================] - 52s 44ms/step - loss: 0.0353 - accuracy: 0.9894 - val_loss: 0.0280 - val_accuracy: 0.9926 - lr: 5.0000e-04\n",
      "Epoch 13/100\n",
      "1182/1182 [==============================] - 52s 44ms/step - loss: 0.0344 - accuracy: 0.9902 - val_loss: 0.0263 - val_accuracy: 0.9931 - lr: 5.0000e-04\n",
      "Epoch 14/100\n",
      "1182/1182 [==============================] - 51s 43ms/step - loss: 0.0348 - accuracy: 0.9899 - val_loss: 0.0236 - val_accuracy: 0.9931 - lr: 5.0000e-04\n",
      "Epoch 15/100\n",
      "1182/1182 [==============================] - 52s 44ms/step - loss: 0.0316 - accuracy: 0.9905 - val_loss: 0.0277 - val_accuracy: 0.9936 - lr: 5.0000e-04\n",
      "Epoch 16/100\n",
      "1182/1182 [==============================] - 52s 44ms/step - loss: 0.0326 - accuracy: 0.9903 - val_loss: 0.0200 - val_accuracy: 0.9936 - lr: 5.0000e-04\n",
      "Epoch 17/100\n",
      "1182/1182 [==============================] - 52s 44ms/step - loss: 0.0332 - accuracy: 0.9903 - val_loss: 0.0215 - val_accuracy: 0.9936 - lr: 5.0000e-04\n",
      "Epoch 18/100\n",
      "1182/1182 [==============================] - 52s 44ms/step - loss: 0.0310 - accuracy: 0.9909 - val_loss: 0.0215 - val_accuracy: 0.9929 - lr: 5.0000e-04\n",
      "Epoch 19/100\n",
      "1182/1182 [==============================] - ETA: 0s - loss: 0.0313 - accuracy: 0.9909\n",
      "Epoch 19: ReduceLROnPlateau reducing learning rate to 0.0002500000118743628.\n",
      "1182/1182 [==============================] - 52s 44ms/step - loss: 0.0313 - accuracy: 0.9909 - val_loss: 0.0202 - val_accuracy: 0.9940 - lr: 5.0000e-04\n",
      "Epoch 20/100\n",
      "1182/1182 [==============================] - 61s 51ms/step - loss: 0.0257 - accuracy: 0.9924 - val_loss: 0.0198 - val_accuracy: 0.9936 - lr: 2.5000e-04\n",
      "Epoch 21/100\n",
      "1182/1182 [==============================] - 61s 51ms/step - loss: 0.0223 - accuracy: 0.9939 - val_loss: 0.0200 - val_accuracy: 0.9948 - lr: 2.5000e-04\n",
      "Epoch 22/100\n",
      "1182/1182 [==============================] - 58s 49ms/step - loss: 0.0222 - accuracy: 0.9931 - val_loss: 0.0196 - val_accuracy: 0.9940 - lr: 2.5000e-04\n",
      "Epoch 23/100\n",
      "1182/1182 [==============================] - 53s 45ms/step - loss: 0.0198 - accuracy: 0.9939 - val_loss: 0.0204 - val_accuracy: 0.9950 - lr: 2.5000e-04\n",
      "Epoch 24/100\n",
      "1182/1182 [==============================] - 52s 44ms/step - loss: 0.0231 - accuracy: 0.9930 - val_loss: 0.0169 - val_accuracy: 0.9950 - lr: 2.5000e-04\n",
      "Epoch 25/100\n",
      "1182/1182 [==============================] - 54s 46ms/step - loss: 0.0214 - accuracy: 0.9934 - val_loss: 0.0176 - val_accuracy: 0.9940 - lr: 2.5000e-04\n",
      "Epoch 26/100\n",
      "1182/1182 [==============================] - 67s 56ms/step - loss: 0.0206 - accuracy: 0.9939 - val_loss: 0.0160 - val_accuracy: 0.9955 - lr: 2.5000e-04\n",
      "Epoch 27/100\n",
      "1182/1182 [==============================] - 68s 57ms/step - loss: 0.0214 - accuracy: 0.9940 - val_loss: 0.0193 - val_accuracy: 0.9950 - lr: 2.5000e-04\n",
      "Epoch 28/100\n",
      "1182/1182 [==============================] - 86s 73ms/step - loss: 0.0216 - accuracy: 0.9930 - val_loss: 0.0195 - val_accuracy: 0.9948 - lr: 2.5000e-04\n",
      "Epoch 29/100\n",
      "1182/1182 [==============================] - ETA: 0s - loss: 0.0204 - accuracy: 0.9939\n",
      "Epoch 29: ReduceLROnPlateau reducing learning rate to 0.0001250000059371814.\n",
      "1182/1182 [==============================] - 82s 70ms/step - loss: 0.0204 - accuracy: 0.9939 - val_loss: 0.0186 - val_accuracy: 0.9945 - lr: 2.5000e-04\n",
      "Epoch 30/100\n",
      "1182/1182 [==============================] - 84s 71ms/step - loss: 0.0164 - accuracy: 0.9949 - val_loss: 0.0184 - val_accuracy: 0.9957 - lr: 1.2500e-04\n",
      "Epoch 31/100\n",
      "1182/1182 [==============================] - 89s 75ms/step - loss: 0.0162 - accuracy: 0.9951 - val_loss: 0.0185 - val_accuracy: 0.9952 - lr: 1.2500e-04\n"
     ]
    }
   ],
   "source": [
    "# Fit the model\n",
    "early_stopping = EarlyStopping(patience=5, monitor=\"val_loss\")\n",
    "history = model.fit_generator(datagen.flow(X_train, y_train, batch_size=32),\n",
    "                              epochs = 100, validation_data = (X_val,y_val),\n",
    "                              callbacks=[learning_rate_reduction, early_stopping, history_1])"
   ]
  },
  {
   "cell_type": "code",
   "execution_count": 37,
   "metadata": {},
   "outputs": [],
   "source": [
    "model.save('models/mieczmik-mnist-model')\n",
    "# reconstructed_model = keras.models.load_model('models/mieczmik-mnist-model')"
   ]
  },
  {
   "cell_type": "markdown",
   "metadata": {},
   "source": [
    "# Evaluate model\n",
    "## Training and validation curves"
   ]
  },
  {
   "cell_type": "code",
   "execution_count": 6,
   "metadata": {},
   "outputs": [
    {
     "ename": "NameError",
     "evalue": "name 'history' is not defined",
     "output_type": "error",
     "traceback": [
      "\u001b[0;31m---------------------------------------------------------------------------\u001b[0m",
      "\u001b[0;31mNameError\u001b[0m                                 Traceback (most recent call last)",
      "\u001b[1;32m/Users/mikolajmiecznikowski/Documents/DS/projects/MNIST/MNIST.ipynb Cell 35\u001b[0m in \u001b[0;36m<cell line: 3>\u001b[0;34m()\u001b[0m\n\u001b[1;32m      <a href='vscode-notebook-cell:/Users/mikolajmiecznikowski/Documents/DS/projects/MNIST/MNIST.ipynb#ch0000041?line=0'>1</a>\u001b[0m \u001b[39m# Plot the loss and accuracy curves for training and validation \u001b[39;00m\n\u001b[1;32m      <a href='vscode-notebook-cell:/Users/mikolajmiecznikowski/Documents/DS/projects/MNIST/MNIST.ipynb#ch0000041?line=1'>2</a>\u001b[0m fig, ax \u001b[39m=\u001b[39m plt\u001b[39m.\u001b[39msubplots(\u001b[39m2\u001b[39m,\u001b[39m1\u001b[39m)\n\u001b[0;32m----> <a href='vscode-notebook-cell:/Users/mikolajmiecznikowski/Documents/DS/projects/MNIST/MNIST.ipynb#ch0000041?line=2'>3</a>\u001b[0m ax[\u001b[39m0\u001b[39m]\u001b[39m.\u001b[39mplot(history\u001b[39m.\u001b[39mhistory[\u001b[39m'\u001b[39m\u001b[39mloss\u001b[39m\u001b[39m'\u001b[39m], color\u001b[39m=\u001b[39m\u001b[39m'\u001b[39m\u001b[39mb\u001b[39m\u001b[39m'\u001b[39m, label\u001b[39m=\u001b[39m\u001b[39m\"\u001b[39m\u001b[39mTraining loss\u001b[39m\u001b[39m\"\u001b[39m)\n\u001b[1;32m      <a href='vscode-notebook-cell:/Users/mikolajmiecznikowski/Documents/DS/projects/MNIST/MNIST.ipynb#ch0000041?line=3'>4</a>\u001b[0m ax[\u001b[39m0\u001b[39m]\u001b[39m.\u001b[39mplot(history\u001b[39m.\u001b[39mhistory[\u001b[39m'\u001b[39m\u001b[39mval_loss\u001b[39m\u001b[39m'\u001b[39m], color\u001b[39m=\u001b[39m\u001b[39m'\u001b[39m\u001b[39mr\u001b[39m\u001b[39m'\u001b[39m, label\u001b[39m=\u001b[39m\u001b[39m\"\u001b[39m\u001b[39mvalidation loss\u001b[39m\u001b[39m\"\u001b[39m,axes \u001b[39m=\u001b[39max[\u001b[39m0\u001b[39m])\n\u001b[1;32m      <a href='vscode-notebook-cell:/Users/mikolajmiecznikowski/Documents/DS/projects/MNIST/MNIST.ipynb#ch0000041?line=4'>5</a>\u001b[0m legend \u001b[39m=\u001b[39m ax[\u001b[39m0\u001b[39m]\u001b[39m.\u001b[39mlegend(loc\u001b[39m=\u001b[39m\u001b[39m'\u001b[39m\u001b[39mbest\u001b[39m\u001b[39m'\u001b[39m, shadow\u001b[39m=\u001b[39m\u001b[39mTrue\u001b[39;00m)\n",
      "\u001b[0;31mNameError\u001b[0m: name 'history' is not defined"
     ]
    },
    {
     "data": {
      "image/png": "[encoded data removed]",
      "text/plain": [
       "<Figure size 432x288 with 2 Axes>"
      ]
     },
     "metadata": {},
     "output_type": "display_data"
    }
   ],
   "source": [
    "# Plot the loss and accuracy curves for training and validation \n",
    "fig, ax = plt.subplots(2,1)\n",
    "ax[0].plot(history.history['loss'], color='b', label=\"Training loss\")\n",
    "ax[0].plot(history.history['val_loss'], color='r', label=\"validation loss\",axes =ax[0])\n",
    "legend = ax[0].legend(loc='best', shadow=True)\n",
    "\n",
    "ax[1].plot(history.history['acc'], color='b', label=\"Training accuracy\")\n",
    "ax[1].plot(history.history['val_acc'], color='r',label=\"Validation accuracy\")\n",
    "legend = ax[1].legend(loc='best', shadow=True)"
   ]
  },
  {
   "cell_type": "markdown",
   "metadata": {},
   "source": [
    "## Confusion matrix"
   ]
  },
  {
   "cell_type": "code",
   "execution_count": 38,
   "metadata": {},
   "outputs": [
    {
     "name": "stdout",
     "output_type": "stream",
     "text": [
      "132/132 [==============================] - 1s 10ms/step\n"
     ]
    },
    {
     "data": {
      "image/png": "[encoded data removed]",
      "text/plain": [
       "<Figure size 432x288 with 2 Axes>"
      ]
     },
     "metadata": {},
     "output_type": "display_data"
    }
   ],
   "source": [
    "from sklearn.metrics import confusion_matrix\n",
    "# Look at confusion matrix \n",
    "\n",
    "def plot_confusion_matrix(cm, classes,\n",
    "                          normalize=False,\n",
    "                          title='Confusion matrix',\n",
    "                          cmap=plt.cm.Blues):\n",
    "    \"\"\"\n",
    "    This function prints and plots the confusion matrix.\n",
    "    Normalization can be applied by setting `normalize=True`.\n",
    "    \"\"\"\n",
    "    plt.imshow(cm, interpolation='nearest', cmap=cmap)\n",
    "    plt.title(title)\n",
    "    plt.colorbar()\n",
    "    tick_marks = np.arange(len(classes))\n",
    "    plt.xticks(tick_marks, classes, rotation=45)\n",
    "    plt.yticks(tick_marks, classes)\n",
    "\n",
    "    if normalize:\n",
    "        cm = cm.astype('float') / cm.sum(axis=1)[:, np.newaxis]\n",
    "\n",
    "    thresh = cm.max() / 2.\n",
    "    for i, j in itertools.product(range(cm.shape[0]), range(cm.shape[1])):\n",
    "        plt.text(j, i, cm[i, j],\n",
    "                 horizontalalignment=\"center\",\n",
    "                 color=\"white\" if cm[i, j] > thresh else \"black\")\n",
    "\n",
    "    plt.tight_layout()\n",
    "    plt.ylabel('True label')\n",
    "    plt.xlabel('Predicted label')\n",
    "\n",
    "# Predict the values from the validation dataset\n",
    "Y_pred = model.predict(X_val)\n",
    "# Convert predictions classes to one hot vectors \n",
    "Y_pred_classes = np.argmax(Y_pred,axis = 1) \n",
    "# Convert validation observations to one hot vectors\n",
    "Y_true = np.argmax(y_val,axis = 1) \n",
    "# compute the confusion matrix\n",
    "confusion_mtx = confusion_matrix(Y_true, Y_pred_classes) \n",
    "# plot the confusion matrix\n",
    "plot_confusion_matrix(confusion_mtx, classes = range(10)) "
   ]
  },
  {
   "cell_type": "code",
   "execution_count": 39,
   "metadata": {},
   "outputs": [
    {
     "data": {
      "image/png": "[encoded data removed]",
      "text/plain": [
       "<Figure size 432x288 with 6 Axes>"
      ]
     },
     "metadata": {},
     "output_type": "display_data"
    }
   ],
   "source": [
    "# Display some error results \n",
    "\n",
    "# Errors are difference between predicted labels and true labels\n",
    "errors = (Y_pred_classes - Y_true != 0)\n",
    "\n",
    "Y_pred_classes_errors = Y_pred_classes[errors]\n",
    "Y_pred_errors = Y_pred[errors]\n",
    "Y_true_errors = Y_true[errors]\n",
    "X_val_errors = X_val[errors]\n",
    "\n",
    "def display_errors(errors_index,img_errors,pred_errors, obs_errors):\n",
    "    \"\"\" This function shows 6 images with their predicted and real labels\"\"\"\n",
    "    n = 0\n",
    "    nrows = 2\n",
    "    ncols = 3\n",
    "    fig, ax = plt.subplots(nrows,ncols,sharex=True,sharey=True)\n",
    "    for row in range(nrows):\n",
    "        for col in range(ncols):\n",
    "            error = errors_index[n]\n",
    "            ax[row,col].imshow((img_errors[error]).reshape((28,28)))\n",
    "            ax[row,col].set_title(\"Predicted label :{}\\nTrue label :{}\".format(pred_errors[error],obs_errors[error]))\n",
    "            n += 1\n",
    "\n",
    "# Probabilities of the wrong predicted numbers\n",
    "Y_pred_errors_prob = np.max(Y_pred_errors,axis = 1)\n",
    "\n",
    "# Predicted probabilities of the true values in the error set\n",
    "true_prob_errors = np.diagonal(np.take(Y_pred_errors, Y_true_errors, axis=1))\n",
    "\n",
    "# Difference between the probability of the predicted label and the true label\n",
    "delta_pred_true_errors = Y_pred_errors_prob - true_prob_errors\n",
    "\n",
    "# Sorted list of the delta prob errors\n",
    "sorted_dela_errors = np.argsort(delta_pred_true_errors)\n",
    "\n",
    "# Top 6 errors \n",
    "most_important_errors = sorted_dela_errors[-6:]\n",
    "\n",
    "# Show the top 6 errors\n",
    "display_errors(most_important_errors, X_val_errors, Y_pred_classes_errors, Y_true_errors)"
   ]
  },
  {
   "cell_type": "code",
   "execution_count": 238,
   "metadata": {},
   "outputs": [
    {
     "name": "stdout",
     "output_type": "stream",
     "text": [
      "875/875 [==============================] - 16s 18ms/step\n"
     ]
    }
   ],
   "source": [
    "predictions = np.argmax(model.predict(test_data), axis = 1)\n",
    "predictions_df = pd.DataFrame(data = predictions)\n",
    "predictions_df.index = predictions_df.index + 1\n",
    "predictions_df.to_csv(path_or_buf = \"submission/submission.csv\", header=[\"Label\"], index=True, index_label=\"ImageId\")"
   ]
  }
 ],
 "metadata": {
  "kernelspec": {
   "display_name": "Python 3.10.5 64-bit",
   "language": "python",
   "name": "python3"
  },
  "language_info": {
   "codemirror_mode": {
    "name": "ipython",
    "version": 3
   },
   "file_extension": ".py",
   "mimetype": "text/x-python",
   "name": "python",
   "nbconvert_exporter": "python",
   "pygments_lexer": "ipython3",
   "version": "3.10.5"
  },
  "orig_nbformat": 4,
  "vscode": {
   "interpreter": {
    "hash": "aee8b7b246df8f9039afb4144a1f6fd8d2ca17a180786b69acc140d282b71a49"
   }
  }
 },
 "nbformat": 4,
 "nbformat_minor": 2
}
